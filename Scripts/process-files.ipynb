{
 "cells": [
  {
   "cell_type": "markdown",
   "metadata": {},
   "source": [
    "# Dateien verarbeiten"
   ]
  },
  {
   "cell_type": "code",
   "execution_count": 1,
   "metadata": {},
   "outputs": [],
   "source": [
    "import pandas as pd\n",
    "import geopandas as gpd\n",
    "from pathlib import Path"
   ]
  },
  {
   "cell_type": "markdown",
   "metadata": {},
   "source": [
    "## Import"
   ]
  },
  {
   "cell_type": "code",
   "execution_count": 2,
   "metadata": {},
   "outputs": [
    {
     "name": "stderr",
     "output_type": "stream",
     "text": [
      "C:\\Users\\simon\\AppData\\Local\\Temp\\ipykernel_6664\\2048623817.py:11: FutureWarning: The behavior of DataFrame concatenation with empty or all-NA entries is deprecated. In a future version, this will no longer exclude empty or all-NA columns when determining the result dtypes. To retain the old behavior, exclude the relevant entries before the concat operation.\n",
      "  gdf_lakes = pd.concat(gdf_lakes, ignore_index=True)\n"
     ]
    }
   ],
   "source": [
    "files = list(Path('../Daten/Shapefiles/').glob(\"*.gpkg\"))\n",
    "\n",
    "gdf_lakes = []\n",
    "\n",
    "for file in files:\n",
    "\n",
    "    gdf = gpd.read_file(file)\n",
    "    gdf['lake'] = Path(file).stem\n",
    "    gdf_lakes.append(gdf)\n",
    "\n",
    "gdf_lakes = pd.concat(gdf_lakes, ignore_index=True)\n",
    "gdf_lakes = gdf_lakes.to_crs(epsg=2056)\n",
    "gdf_lakes['length'] = gdf_lakes.geometry.length"
   ]
  },
  {
   "cell_type": "markdown",
   "metadata": {},
   "source": [
    "## Check if wrong categories"
   ]
  },
  {
   "cell_type": "code",
   "execution_count": 3,
   "metadata": {},
   "outputs": [
    {
     "data": {
      "text/html": [
       "<div>\n",
       "<style scoped>\n",
       "    .dataframe tbody tr th:only-of-type {\n",
       "        vertical-align: middle;\n",
       "    }\n",
       "\n",
       "    .dataframe tbody tr th {\n",
       "        vertical-align: top;\n",
       "    }\n",
       "\n",
       "    .dataframe thead th {\n",
       "        text-align: right;\n",
       "    }\n",
       "</style>\n",
       "<table border=\"1\" class=\"dataframe\">\n",
       "  <thead>\n",
       "    <tr style=\"text-align: right;\">\n",
       "      <th></th>\n",
       "      <th>id</th>\n",
       "      <th>cat</th>\n",
       "      <th>comment</th>\n",
       "      <th>gemeinde</th>\n",
       "      <th>geometry</th>\n",
       "      <th>lake</th>\n",
       "      <th>length</th>\n",
       "    </tr>\n",
       "  </thead>\n",
       "  <tbody>\n",
       "  </tbody>\n",
       "</table>\n",
       "</div>"
      ],
      "text/plain": [
       "Empty GeoDataFrame\n",
       "Columns: [id, cat, comment, gemeinde, geometry, lake, length]\n",
       "Index: []"
      ]
     },
     "execution_count": 3,
     "metadata": {},
     "output_type": "execute_result"
    }
   ],
   "source": [
    "categories = ['pa', 'fa', 'ff', 'pp', 'wr', 'ps']\n",
    "gdf_lakes[gdf_lakes.cat.isin(categories) == False]"
   ]
  },
  {
   "cell_type": "markdown",
   "metadata": {},
   "source": [
    "## Group"
   ]
  },
  {
   "cell_type": "code",
   "execution_count": 4,
   "metadata": {},
   "outputs": [
    {
     "data": {
      "text/html": [
       "<div>\n",
       "<style scoped>\n",
       "    .dataframe tbody tr th:only-of-type {\n",
       "        vertical-align: middle;\n",
       "    }\n",
       "\n",
       "    .dataframe tbody tr th {\n",
       "        vertical-align: top;\n",
       "    }\n",
       "\n",
       "    .dataframe thead th {\n",
       "        text-align: right;\n",
       "    }\n",
       "</style>\n",
       "<table border=\"1\" class=\"dataframe\">\n",
       "  <thead>\n",
       "    <tr style=\"text-align: right;\">\n",
       "      <th>cat</th>\n",
       "      <th>fa</th>\n",
       "      <th>ff</th>\n",
       "      <th>pa</th>\n",
       "      <th>pp</th>\n",
       "      <th>ps</th>\n",
       "      <th>sum</th>\n",
       "    </tr>\n",
       "    <tr>\n",
       "      <th>lake</th>\n",
       "      <th></th>\n",
       "      <th></th>\n",
       "      <th></th>\n",
       "      <th></th>\n",
       "      <th></th>\n",
       "      <th></th>\n",
       "    </tr>\n",
       "  </thead>\n",
       "  <tbody>\n",
       "    <tr>\n",
       "      <th>Lake Baldegg</th>\n",
       "      <td>37.9</td>\n",
       "      <td>54.3</td>\n",
       "      <td>2.4</td>\n",
       "      <td>5.4</td>\n",
       "      <td>0.0</td>\n",
       "      <td>100.0</td>\n",
       "    </tr>\n",
       "    <tr>\n",
       "      <th>Lake Bienne</th>\n",
       "      <td>44.8</td>\n",
       "      <td>23.9</td>\n",
       "      <td>2.2</td>\n",
       "      <td>29.1</td>\n",
       "      <td>0.0</td>\n",
       "      <td>100.0</td>\n",
       "    </tr>\n",
       "    <tr>\n",
       "      <th>Lake Constance</th>\n",
       "      <td>55.0</td>\n",
       "      <td>9.6</td>\n",
       "      <td>2.2</td>\n",
       "      <td>33.2</td>\n",
       "      <td>0.1</td>\n",
       "      <td>100.0</td>\n",
       "    </tr>\n",
       "    <tr>\n",
       "      <th>Lake Geneva</th>\n",
       "      <td>49.1</td>\n",
       "      <td>4.8</td>\n",
       "      <td>0.8</td>\n",
       "      <td>43.0</td>\n",
       "      <td>2.3</td>\n",
       "      <td>100.0</td>\n",
       "    </tr>\n",
       "    <tr>\n",
       "      <th>Lake Hallwil</th>\n",
       "      <td>63.9</td>\n",
       "      <td>19.0</td>\n",
       "      <td>0.7</td>\n",
       "      <td>16.4</td>\n",
       "      <td>0.0</td>\n",
       "      <td>100.0</td>\n",
       "    </tr>\n",
       "    <tr>\n",
       "      <th>Lake Lucerne</th>\n",
       "      <td>37.8</td>\n",
       "      <td>26.4</td>\n",
       "      <td>1.6</td>\n",
       "      <td>31.9</td>\n",
       "      <td>2.3</td>\n",
       "      <td>100.0</td>\n",
       "    </tr>\n",
       "    <tr>\n",
       "      <th>Lake Lugano</th>\n",
       "      <td>31.9</td>\n",
       "      <td>6.5</td>\n",
       "      <td>2.8</td>\n",
       "      <td>48.5</td>\n",
       "      <td>10.4</td>\n",
       "      <td>100.0</td>\n",
       "    </tr>\n",
       "    <tr>\n",
       "      <th>Lake Maggiore</th>\n",
       "      <td>40.9</td>\n",
       "      <td>26.7</td>\n",
       "      <td>1.3</td>\n",
       "      <td>28.6</td>\n",
       "      <td>2.4</td>\n",
       "      <td>100.0</td>\n",
       "    </tr>\n",
       "    <tr>\n",
       "      <th>Lake Murten</th>\n",
       "      <td>49.6</td>\n",
       "      <td>12.1</td>\n",
       "      <td>4.9</td>\n",
       "      <td>33.5</td>\n",
       "      <td>0.0</td>\n",
       "      <td>100.0</td>\n",
       "    </tr>\n",
       "    <tr>\n",
       "      <th>Lake Neuenburg</th>\n",
       "      <td>45.4</td>\n",
       "      <td>38.1</td>\n",
       "      <td>0.5</td>\n",
       "      <td>16.1</td>\n",
       "      <td>0.0</td>\n",
       "      <td>100.0</td>\n",
       "    </tr>\n",
       "    <tr>\n",
       "      <th>Lake Sempach</th>\n",
       "      <td>21.2</td>\n",
       "      <td>33.3</td>\n",
       "      <td>6.0</td>\n",
       "      <td>39.5</td>\n",
       "      <td>0.0</td>\n",
       "      <td>100.0</td>\n",
       "    </tr>\n",
       "    <tr>\n",
       "      <th>Lake Thun</th>\n",
       "      <td>46.4</td>\n",
       "      <td>14.2</td>\n",
       "      <td>1.8</td>\n",
       "      <td>33.4</td>\n",
       "      <td>4.2</td>\n",
       "      <td>100.0</td>\n",
       "    </tr>\n",
       "    <tr>\n",
       "      <th>Lake Zug</th>\n",
       "      <td>41.9</td>\n",
       "      <td>16.4</td>\n",
       "      <td>0.9</td>\n",
       "      <td>36.5</td>\n",
       "      <td>4.4</td>\n",
       "      <td>100.0</td>\n",
       "    </tr>\n",
       "    <tr>\n",
       "      <th>Lake Zurich</th>\n",
       "      <td>38.8</td>\n",
       "      <td>10.8</td>\n",
       "      <td>2.9</td>\n",
       "      <td>46.0</td>\n",
       "      <td>1.6</td>\n",
       "      <td>100.0</td>\n",
       "    </tr>\n",
       "  </tbody>\n",
       "</table>\n",
       "</div>"
      ],
      "text/plain": [
       "cat               fa    ff   pa    pp    ps    sum\n",
       "lake                                              \n",
       "Lake Baldegg    37.9  54.3  2.4   5.4   0.0  100.0\n",
       "Lake Bienne     44.8  23.9  2.2  29.1   0.0  100.0\n",
       "Lake Constance  55.0   9.6  2.2  33.2   0.1  100.0\n",
       "Lake Geneva     49.1   4.8  0.8  43.0   2.3  100.0\n",
       "Lake Hallwil    63.9  19.0  0.7  16.4   0.0  100.0\n",
       "Lake Lucerne    37.8  26.4  1.6  31.9   2.3  100.0\n",
       "Lake Lugano     31.9   6.5  2.8  48.5  10.4  100.0\n",
       "Lake Maggiore   40.9  26.7  1.3  28.6   2.4  100.0\n",
       "Lake Murten     49.6  12.1  4.9  33.5   0.0  100.0\n",
       "Lake Neuenburg  45.4  38.1  0.5  16.1   0.0  100.0\n",
       "Lake Sempach    21.2  33.3  6.0  39.5   0.0  100.0\n",
       "Lake Thun       46.4  14.2  1.8  33.4   4.2  100.0\n",
       "Lake Zug        41.9  16.4  0.9  36.5   4.4  100.0\n",
       "Lake Zurich     38.8  10.8  2.9  46.0   1.6  100.0"
      ]
     },
     "execution_count": 4,
     "metadata": {},
     "output_type": "execute_result"
    }
   ],
   "source": [
    "# Remove Water\n",
    "df = gdf_lakes[gdf_lakes.cat != 'wr']\n",
    "\n",
    "df = df.pivot_table(index='lake', columns='cat', values='length', aggfunc='sum')\n",
    "df.fillna(0, inplace=True)\n",
    "df['sum'] = df.sum(axis=1)\n",
    "\n",
    "# In Prozent\n",
    "df = df.div(df['sum'], axis=0) * 100\n",
    "df = df.round(1)\n",
    "\n",
    "df.to_csv(Path('../Daten/Excel/analytics.csv'))\n",
    "\n",
    "df"
   ]
  },
  {
   "cell_type": "markdown",
   "metadata": {},
   "source": [
    "## Generate SVGs"
   ]
  },
  {
   "cell_type": "code",
   "execution_count": 5,
   "metadata": {},
   "outputs": [],
   "source": [
    "import matplotlib.colors\n",
    "import matplotlib.pyplot as plt"
   ]
  },
  {
   "cell_type": "code",
   "execution_count": 6,
   "metadata": {},
   "outputs": [],
   "source": [
    "colors = {\n",
    "    \"??\": \"#e61dd9\",\n",
    "    \"fa\": \"#28c23f\",\n",
    "    \"ff\": \"#dbffe4\",\n",
    "    \"pp\": \"#ec4243\",\n",
    "    \"ps\": \"#ecffc5\",\n",
    "    \"pa\": \"#e9a23d\",\n",
    "    \"wr\": \"#71e0f8\",\n",
    "}\n",
    "cmap = matplotlib.colors.ListedColormap([t[1] for t in sorted(colors.items())])"
   ]
  },
  {
   "cell_type": "code",
   "execution_count": 7,
   "metadata": {},
   "outputs": [
    {
     "name": "stdout",
     "output_type": "stream",
     "text": [
      "..\\Daten\\Shapefiles\\Lake Baldegg.gpkg\n",
      "..\\Daten\\Shapefiles\\Lake Bienne.gpkg\n",
      "..\\Daten\\Shapefiles\\Lake Constance.gpkg\n",
      "..\\Daten\\Shapefiles\\Lake Geneva.gpkg\n",
      "..\\Daten\\Shapefiles\\Lake Hallwil.gpkg\n",
      "..\\Daten\\Shapefiles\\Lake Lucerne.gpkg\n",
      "..\\Daten\\Shapefiles\\Lake Lugano.gpkg\n",
      "..\\Daten\\Shapefiles\\Lake Maggiore.gpkg\n",
      "..\\Daten\\Shapefiles\\Lake Murten.gpkg\n",
      "..\\Daten\\Shapefiles\\Lake Neuenburg.gpkg\n",
      "..\\Daten\\Shapefiles\\Lake Sempach.gpkg\n",
      "..\\Daten\\Shapefiles\\Lake Thun.gpkg\n",
      "..\\Daten\\Shapefiles\\Lake Zug.gpkg\n",
      "..\\Daten\\Shapefiles\\Lake Zurich.gpkg\n"
     ]
    }
   ],
   "source": [
    "files = list(Path('../Daten/Shapefiles/').glob(\"*.gpkg\"))\n",
    "\n",
    "\n",
    "for file in files:\n",
    "\n",
    "    print(file)\n",
    "\n",
    "    gdf = gpd.read_file(file)\n",
    "    gdf = gdf.to_crs(epsg=2056)\n",
    "\n",
    "    # Remove Water\n",
    "    gdf = gdf[gdf.cat != 'wr']\n",
    "\n",
    "    fig, ax = plt.subplots(figsize=(30, 30), dpi=100)\n",
    "    for category, data in gdf.groupby('cat'): # Group by type\n",
    "        color = colors[category] \n",
    "        label = category\n",
    "        plt.axis('off')\n",
    "        data.plot(color=color,\n",
    "                  ax=ax,\n",
    "                  label=label,\n",
    "                  linewidth=1\n",
    "                 )\n",
    "    ax.legend()\n",
    "    plt.savefig(Path(f\"../Daten/SVG/{Path(file).stem}.svg\"), bbox_inches='tight', dpi=100)\n",
    "    plt.close()\n"
   ]
  },
  {
   "cell_type": "markdown",
   "metadata": {},
   "source": [
    "## Drei Kategorien - Check"
   ]
  },
  {
   "cell_type": "code",
   "execution_count": 44,
   "metadata": {},
   "outputs": [
    {
     "data": {
      "text/plain": [
       "<Axes: ylabel='Lake Zurich'>"
      ]
     },
     "execution_count": 44,
     "metadata": {},
     "output_type": "execute_result"
    },
    {
     "data": {
      "image/png": "[encoded data removed]",
      "text/plain": [
       "<Figure size 640x480 with 1 Axes>"
      ]
     },
     "metadata": {},
     "output_type": "display_data"
    }
   ],
   "source": [
    "# Remove Water\n",
    "df = gdf_lakes[gdf_lakes.cat != 'wr']\n",
    "\n",
    "# Auf 3 Kategorien reduzieren\n",
    "df.loc[df.cat == 'pa', 'cat'] = 'fa'\n",
    "df.loc[df.cat == 'ps', 'cat'] = 'ff'\n",
    "\n",
    "df = df.pivot_table(index='lake', columns='cat', values='length', aggfunc='sum')\n",
    "\n",
    "df.rename(columns={'fa': 'Frei', 'ff': 'Strasse', 'pp': 'Privat'}, inplace=True)\n",
    "\n",
    "df.fillna(0, inplace=True)\n",
    "df['sum'] = df.sum(axis=1)\n",
    "\n",
    "# In Prozent\n",
    "df = df.div(df['sum'], axis=0) * 100\n",
    "df = df.round(1)\n",
    "\n",
    "df.drop(columns='sum', inplace=True)\n",
    "\n",
    "i = 13\n",
    "df.iloc[i].plot.pie(y='cat', colors=['green', 'grey', 'red'])"
   ]
  },
  {
   "cell_type": "code",
   "execution_count": null,
   "metadata": {},
   "outputs": [],
   "source": []
  }
 ],
 "metadata": {
  "kernelspec": {
   "display_name": "env",
   "language": "python",
   "name": "python3"
  },
  "language_info": {
   "codemirror_mode": {
    "name": "ipython",
    "version": 3
   },
   "file_extension": ".py",
   "mimetype": "text/x-python",
   "name": "python",
   "nbconvert_exporter": "python",
   "pygments_lexer": "ipython3",
   "version": "3.10.8"
  }
 },
 "nbformat": 4,
 "nbformat_minor": 2
}
